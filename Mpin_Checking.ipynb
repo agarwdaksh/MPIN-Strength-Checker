{
 "cells": [
  {
   "cell_type": "markdown",
   "id": "94583525-38f4-468d-b367-4ec7c727c1ac",
   "metadata": {},
   "source": [
    "### File Loading"
   ]
  },
  {
   "cell_type": "code",
   "execution_count": 16,
   "id": "a359f333-dd4b-433d-9fcb-2ec6a3175060",
   "metadata": {},
   "outputs": [
    {
     "name": "stdout",
     "output_type": "stream",
     "text": [
      "Loaded 2626 commonly used MPINs.\n"
     ]
    }
   ],
   "source": [
    "def load_common_pin_file(filename):\n",
    "    try:\n",
    "        with open(filename, 'r') as file:\n",
    "            pins = {line.strip() for line in file if line.strip()}\n",
    "        return pins\n",
    "    except FileNotFoundError:\n",
    "        print(f\"Error: File '{filename}' not found in the current directory.\")\n",
    "        return set()\n",
    "    except Exception as e:\n",
    "        print(f\"An error occurred while loading the MPINs: {e}\")\n",
    "        return set()\n",
    "\n",
    "common_pins = load_common_pin_file(\"Commonly_Used_Pins.txt\")\n",
    "print(f\"Loaded {len(common_pins)} commonly used MPINs.\")"
   ]
  },
  {
   "cell_type": "markdown",
   "id": "9abd4554-167b-466f-a4d7-28b50729b7ed",
   "metadata": {},
   "source": [
    "### Check If Pin in Commonly used PIN File"
   ]
  },
  {
   "cell_type": "code",
   "execution_count": 17,
   "id": "6a4dfed8-0f72-4ab8-8c9c-9aa3fdac93a0",
   "metadata": {},
   "outputs": [],
   "source": [
    "def is_mpin_common(pin, common_pin_set):\n",
    "    return pin in common_pin_set"
   ]
  },
  {
   "cell_type": "markdown",
   "id": "4a120017-d0e4-4f48-992a-364ccc3cd23b",
   "metadata": {},
   "source": [
    "### User Input and Checking"
   ]
  },
  {
   "cell_type": "code",
   "execution_count": 19,
   "id": "d372802a-4939-4fc9-8f99-1b29b62e235e",
   "metadata": {},
   "outputs": [
    {
     "name": "stdout",
     "output_type": "stream",
     "text": [
      "MPIN '9999' is commonly used.\n"
     ]
    }
   ],
   "source": [
    "pin_input = input(\"Enter your 4-digit MPIN: \").strip()\n",
    "\n",
    "if not pin_input.isdigit() or len(pin_input) != 4:\n",
    "    print(\"Invalid input. Please enter exactly 4 numeric digits.\")\n",
    "else:\n",
    "    common_pins = load_common_pin_file(\"Commonly_Used_Pins.txt\")\n",
    "    if is_mpin_common(pin_input, common_pins):\n",
    "        print(f\"MPIN '{pin_input}' is commonly used.\")\n",
    "    else:\n",
    "        print(f\"MPIN '{pin_input}' is not a commonly used MPIN.\")"
   ]
  },
  {
   "cell_type": "markdown",
   "id": "0f0785e5-a994-4b13-9baa-20c87fa7dd89",
   "metadata": {},
   "source": [
    "### Demogaphics Checking"
   ]
  },
  {
   "cell_type": "code",
   "execution_count": 20,
   "id": "d7bcb024-f3c9-417f-856a-af2ea49b66b3",
   "metadata": {},
   "outputs": [],
   "source": [
    "from datetime import datetime\n",
    "\n",
    "def extract_pin_patterns_from_date(date_str):\n",
    "    try:\n",
    "        dt = datetime.strptime(date_str, \"%d-%m-%Y\")\n",
    "        day = f\"{dt.day:02d}\"\n",
    "        month = f\"{dt.month:02d}\"\n",
    "        year = f\"{dt.year}\"\n",
    "        yy = year[-2:]\n",
    "\n",
    "        return {\n",
    "            day + month,\n",
    "            month + day,\n",
    "            yy + month,\n",
    "            month + yy,\n",
    "            yy + day,\n",
    "            day + yy\n",
    "        }\n",
    "    except ValueError:\n",
    "        print(f\"❌ Invalid date format: {date_str}. Expected format: DD-MM-YYYY\")\n",
    "        return set()"
   ]
  },
  {
   "cell_type": "code",
   "execution_count": 21,
   "id": "a2bdc346-2d30-42c9-ae48-960e730506a6",
   "metadata": {},
   "outputs": [],
   "source": [
    "def is_mpin_related_to_demographics(pin, dob_self, dob_spouse, anniversary):\n",
    "    all_patterns = set()\n",
    "    for date in [dob_self, dob_spouse, anniversary]:\n",
    "        all_patterns.update(extract_pin_patterns_from_date(date))\n",
    "    return pin in all_patterns"
   ]
  },
  {
   "cell_type": "code",
   "execution_count": 22,
   "id": "0a6ce7b5-195a-4190-a9ef-0b17106c31d2",
   "metadata": {},
   "outputs": [
    {
     "name": "stdout",
     "output_type": "stream",
     "text": [
      "Enter your DOB, Spouse's DOB and Wedding Anniversary — all in DD-MM-YYYY format.\n",
      "⚠️ MPIN '0509' is WEAK.\n"
     ]
    }
   ],
   "source": [
    "pin_input = input(\"Enter your 4-digit MPIN: \").strip()\n",
    "print(\"Enter your DOB, Spouse's DOB and Wedding Anniversary — all in DD-MM-YYYY format.\")\n",
    "dob_self = input(\"Your DOB: \").strip()\n",
    "dob_spouse = input(\"Spouse's DOB: \").strip()\n",
    "anniversary = input(\"Wedding Anniversary: \").strip()\n",
    "\n",
    "\n",
    "if not pin_input.isdigit() or len(pin_input) != 4:\n",
    "    print(\"❌ Invalid MPIN. Please enter exactly 4 numeric digits.\")\n",
    "else:\n",
    "    common_pins = load_common_pin_file(\"Commonly_Used_Pins.txt\")\n",
    "\n",
    "    is_common = is_mpin_common(pin_input, common_pins)\n",
    "    is_demo = is_mpin_related_to_demographics(pin_input, dob_self, dob_spouse, anniversary)\n",
    "\n",
    "    if is_common:\n",
    "        print(f\"⚠️ MPIN '{pin_input}' is commonly used.\")\n",
    "    if is_demo:\n",
    "        print(f\"⚠️ MPIN '{pin_input}' is WEAK.\")\n",
    "    if not is_common and not is_demo:\n",
    "        print(f\"✅ MPIN '{pin_input}' is STRONG.\")\n"
   ]
  },
  {
   "cell_type": "markdown",
   "id": "4baf378d-5319-417e-b232-3ea29c76ee8c",
   "metadata": {},
   "source": [
    "### Reason in Demogaphic"
   ]
  },
  {
   "cell_type": "code",
   "execution_count": 23,
   "id": "ed8702c7-e760-47c9-8b4d-2fad51b32c7c",
   "metadata": {},
   "outputs": [],
   "source": [
    "def evaluate_mpin_strength(pin, common_pin_set, dob_self, dob_spouse, anniversary):\n",
    "    reasons = []\n",
    "\n",
    "    # 1: Commonly used\n",
    "    if pin in common_pin_set:\n",
    "        reasons.append(\"COMMONLY_USED\")\n",
    "\n",
    "    # 2: Demographic patterns\n",
    "    if pin in extract_pin_patterns_from_date(dob_self):\n",
    "        reasons.append(\"DEMOGRAPHIC_DOB_SELF\")\n",
    "    if pin in extract_pin_patterns_from_date(dob_spouse):\n",
    "        reasons.append(\"DEMOGRAPHIC_DOB_SPOUSE\")\n",
    "    if pin in extract_pin_patterns_from_date(anniversary):\n",
    "        reasons.append(\"DEMOGRAPHIC_ANNIVERSARY\")\n",
    "\n",
    "    strength = \"WEAK\" if reasons else \"STRONG\"\n",
    "    return strength, reasons\n"
   ]
  },
  {
   "cell_type": "code",
   "execution_count": 24,
   "id": "d710a4e2-c97d-433b-bf73-d7dfc23d3e63",
   "metadata": {},
   "outputs": [
    {
     "name": "stdout",
     "output_type": "stream",
     "text": [
      "\n",
      "--- MPIN Evaluation Report ---\n",
      "MPIN: 0509\n",
      "Strength: WEAK\n",
      "Weakness Reasons: ['DEMOGRAPHIC_DOB_SPOUSE']\n"
     ]
    }
   ],
   "source": [
    "strength, reasons = evaluate_mpin_strength(\n",
    "    pin_input,\n",
    "    common_pins,\n",
    "    dob_self,\n",
    "    dob_spouse,\n",
    "    anniversary\n",
    ")\n",
    "\n",
    "# Output the result\n",
    "print(\"\\n--- MPIN Evaluation Report ---\")\n",
    "print(f\"MPIN: {pin_input}\")\n",
    "print(f\"Strength: {strength}\")\n",
    "print(f\"Weakness Reasons: {reasons}\")\n"
   ]
  },
  {
   "cell_type": "markdown",
   "id": "20110977-2604-44be-b680-acfbe4326abc",
   "metadata": {},
   "source": [
    "### 6 Digit Pin Checking"
   ]
  },
  {
   "cell_type": "code",
   "execution_count": 25,
   "id": "58c06d71-f02a-4396-b756-76767987b3fc",
   "metadata": {},
   "outputs": [],
   "source": [
    "def load_common_pin_file(filename):\n",
    "    try:\n",
    "        with open(filename, 'r') as file:\n",
    "            pins = {line.strip() for line in file if line.strip()}\n",
    "        return pins\n",
    "    except FileNotFoundError:\n",
    "        print(f\"Error: File '{filename}' not found.\")\n",
    "        return set()\n",
    "    except Exception as e:\n",
    "        print(f\"An error occurred: {e}\")\n",
    "        return set()\n",
    "common_pins = load_common_pin_file(\"Commonly_Used_Pin_6.txt\")"
   ]
  },
  {
   "cell_type": "code",
   "execution_count": 29,
   "id": "7ae2d9bd-ae42-438f-9c55-e6b67b3fa793",
   "metadata": {},
   "outputs": [],
   "source": [
    "def extract_pin_patterns_from_date(date_str):\n",
    "    try:\n",
    "        dt = datetime.strptime(date_str, \"%d-%m-%Y\")\n",
    "        day = f\"{dt.day:02d}\"\n",
    "        month = f\"{dt.month:02d}\"\n",
    "        year = f\"{dt.year}\"\n",
    "        yyyy = year.zfill(4)\n",
    "        yy = year[-2:]\n",
    "\n",
    "        return {\n",
    "            # Only 6-digit patterns\n",
    "            day + month + yy, month + day + yy, yy + month + day,\n",
    "            day + yy + month, month + yy + day, yy + day + month,\n",
    "            day + month + yyyy[-2:], month + day + yyyy[-2:],\n",
    "            yyyy + month, yyyy + day,\n",
    "            month + yyyy, day + yyyy\n",
    "        }\n",
    "    except ValueError:\n",
    "        print(f\"❌ Invalid date format: {date_str}. Expected format: DD-MM-YYYY\")\n",
    "        return set()"
   ]
  },
  {
   "cell_type": "code",
   "execution_count": 27,
   "id": "590040f5-b089-4a0d-853b-a19af06a00c6",
   "metadata": {},
   "outputs": [],
   "source": [
    "def evaluate_mpin_strength(pin, common_pin_set, dob_self, dob_spouse, anniversary):\n",
    "    reasons = []\n",
    "\n",
    "    if pin in common_pin_set:\n",
    "        reasons.append(\"COMMONLY_USED\")\n",
    "    if pin in extract_pin_patterns_from_date(dob_self):\n",
    "        reasons.append(\"DEMOGRAPHIC_DOB_SELF\")\n",
    "    if pin in extract_pin_patterns_from_date(dob_spouse):\n",
    "        reasons.append(\"DEMOGRAPHIC_DOB_SPOUSE\")\n",
    "    if pin in extract_pin_patterns_from_date(anniversary):\n",
    "        reasons.append(\"DEMOGRAPHIC_ANNIVERSARY\")\n",
    "\n",
    "    strength = \"WEAK\" if reasons else \"STRONG\"\n",
    "    return strength, reasons"
   ]
  },
  {
   "cell_type": "code",
   "execution_count": 28,
   "id": "f1832cb9-def3-4149-8e09-d52ee225f15c",
   "metadata": {},
   "outputs": [
    {
     "name": "stdout",
     "output_type": "stream",
     "text": [
      "Enter your DOB, Spouse's DOB and Wedding Anniversary — all in DD-MM-YYYY format.\n",
      "\n",
      "--- MPIN Evaluation Result (6-digit) ---\n",
      "MPIN: 123456\n",
      "Strength: WEAK\n",
      "Weakness Reasons: ['COMMONLY_USED']\n"
     ]
    }
   ],
   "source": [
    "# Re-take input (Part D: 6-digit only)\n",
    "\n",
    "pin_input = input(\"Enter your 6-digit MPIN: \").strip()\n",
    "print(\"Enter your DOB, Spouse's DOB and Wedding Anniversary — all in DD-MM-YYYY format.\")\n",
    "dob_self = input(\"Your DOB: \").strip()\n",
    "dob_spouse = input(\"Spouse's DOB: \").strip()\n",
    "anniversary = input(\"Wedding Anniversary: \").strip()\n",
    "\n",
    "# Validate pin length\n",
    "if not pin_input.isdigit() or len(pin_input) != 6:\n",
    "    print(\"❌ Invalid MPIN. Please enter exactly 6 digits.\")\n",
    "else:\n",
    "    # Load commonly used 6-digit PINs\n",
    "    common_pins = load_common_pin_file(\"Commonly_Used_Pin_6.txt\")\n",
    "\n",
    "    # Evaluate strength\n",
    "    strength, reasons = evaluate_mpin_strength(\n",
    "        pin_input,\n",
    "        common_pins,\n",
    "        dob_self,\n",
    "        dob_spouse,\n",
    "        anniversary\n",
    "    )\n",
    "\n",
    "    # Output result\n",
    "    print(\"\\n--- MPIN Evaluation Result (6-digit) ---\")\n",
    "    print(f\"MPIN: {pin_input}\")\n",
    "    print(f\"Strength: {strength}\")\n",
    "    print(f\"Weakness Reasons: {reasons}\")\n"
   ]
  }
 ],
 "metadata": {
  "kernelspec": {
   "display_name": "base",
   "language": "python",
   "name": "python3"
  },
  "language_info": {
   "codemirror_mode": {
    "name": "ipython",
    "version": 3
   },
   "file_extension": ".py",
   "mimetype": "text/x-python",
   "name": "python",
   "nbconvert_exporter": "python",
   "pygments_lexer": "ipython3",
   "version": "3.12.7"
  }
 },
 "nbformat": 4,
 "nbformat_minor": 5
}
